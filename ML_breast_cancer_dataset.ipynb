{
 "cells": [
  {
   "cell_type": "markdown",
   "metadata": {},
   "source": [
    "# BREAST CANCER DATASET"
   ]
  },
  {
   "cell_type": "markdown",
   "metadata": {},
   "source": [
    "A first look at the breast cancer dataset, a classic (binary) classification dataset via kNN method."
   ]
  },
  {
   "cell_type": "markdown",
   "metadata": {},
   "source": [
    "scikit learn includes a data set for breast cancer (diagnostic) in Wisconsin, "
   ]
  },
  {
   "cell_type": "code",
   "execution_count": 37,
   "metadata": {},
   "outputs": [],
   "source": [
    "import numpy as np\n",
    "import pandas as pd\n",
    "from sklearn.datasets import load_breast_cancer\n",
    "\n",
    "#LOADING DATA\n",
    "cancer = load_breast_cancer()\n",
    "\n",
    "#print(cancer.DESCR) # data set description"
   ]
  },
  {
   "cell_type": "code",
   "execution_count": 38,
   "metadata": {},
   "outputs": [
    {
     "name": "stdout",
     "output_type": "stream",
     "text": [
      "Keywords used in the data set:\n",
      "dict_keys(['data', 'target', 'frame', 'target_names', 'DESCR', 'feature_names', 'filename'])\n"
     ]
    }
   ],
   "source": [
    "print('Keywords used in the data set:')\n",
    "print(cancer.keys())"
   ]
  },
  {
   "cell_type": "code",
   "execution_count": 39,
   "metadata": {},
   "outputs": [
    {
     "name": "stdout",
     "output_type": "stream",
     "text": [
      "Number of features:  30\n"
     ]
    }
   ],
   "source": [
    "# CONVERTING IN DATAFRAME\n",
    "# \"target\" contains 1 if benign, or 0 if malignant\n",
    "data = np.c_[cancer.data, cancer.target]\n",
    "columns = np.append(cancer.feature_names, [\"target\"])\n",
    "cancer_df = pd.DataFrame(data, columns=columns)\n",
    "\n",
    "print('Number of features: ', len(cancer['feature_names']))"
   ]
  },
  {
   "cell_type": "code",
   "execution_count": 40,
   "metadata": {},
   "outputs": [
    {
     "name": "stdout",
     "output_type": "stream",
     "text": [
      "Dataset contains [malignant, benign] cases:  [212, 357]\n"
     ]
    }
   ],
   "source": [
    "# split the data in malignant or benign and each case:\n",
    "\n",
    "counts = cancer_df.target.value_counts(ascending=True) #organise by target, \n",
    "# ascending=True sets target=0 (malignant) first\n",
    "\n",
    "counts.index = \"malignant benign\".split()  #splitting data for counting, first malignant, and then benign\n",
    "\n",
    "counts = [counts.malignant, counts.benign]; #counts\n",
    "\n",
    "print(\"Dataset contains [malignant, benign] cases: \", counts)"
   ]
  },
  {
   "cell_type": "markdown",
   "metadata": {},
   "source": [
    "## Starting treatment for applying ML techniques"
   ]
  },
  {
   "cell_type": "markdown",
   "metadata": {},
   "source": [
    "*We need to rerun cancer_df because it is ordered by target, splitting data for train/test will be problematic*"
   ]
  },
  {
   "cell_type": "code",
   "execution_count": 41,
   "metadata": {},
   "outputs": [],
   "source": [
    "cancer_df = pd.DataFrame(data, columns=columns)"
   ]
  },
  {
   "cell_type": "code",
   "execution_count": 42,
   "metadata": {
    "scrolled": true
   },
   "outputs": [],
   "source": [
    "# separate variables\n",
    "\n",
    "#X = pd shape, matrix\n",
    "X = cancer_df[cancer_df.columns[:-1]] #ignores target\n",
    "\n",
    "# y = pd series, vector\n",
    "y = cancer_df.target # target\n",
    "    "
   ]
  },
  {
   "cell_type": "markdown",
   "metadata": {},
   "source": [
    "### Importing kNN model "
   ]
  },
  {
   "cell_type": "code",
   "execution_count": 43,
   "metadata": {},
   "outputs": [
    {
     "name": "stdout",
     "output_type": "stream",
     "text": [
      "Accuracy:  0.916083916083916\n"
     ]
    }
   ],
   "source": [
    "from sklearn.model_selection import train_test_split\n",
    "from sklearn.neighbors import KNeighborsClassifier\n",
    "\n",
    "# Auto amount of data for train/test (75/25)\n",
    "X_train, X_test, y_train, y_test = train_test_split(X, y, random_state=0)\n",
    "\n",
    "model = KNeighborsClassifier(n_neighbors=1)\n",
    "\n",
    "model.fit(X_train, y_train) # fitting model\n",
    "\n",
    "# now, model is fitted and working, should predict correctly\n",
    "print(\"Accuracy: \", model.score(X_test, y_test))\n"
   ]
  },
  {
   "cell_type": "markdown",
   "metadata": {},
   "source": [
    "### Accuracy in function of k"
   ]
  },
  {
   "cell_type": "code",
   "execution_count": 64,
   "metadata": {},
   "outputs": [
    {
     "name": "stdout",
     "output_type": "stream",
     "text": [
      "For K=  1\n",
      "Accuracy train:  1.0\n",
      "Accuracy test:  0.916083916083916\n",
      "\n",
      "\n",
      "For K=  3\n",
      "Accuracy train:  0.9577464788732394\n",
      "Accuracy test:  0.9230769230769231\n",
      "\n",
      "\n",
      "For K=  6\n",
      "Accuracy train:  0.9413145539906104\n",
      "Accuracy test:  0.9230769230769231\n",
      "\n",
      "\n",
      "For K=  11\n",
      "Accuracy train:  0.9366197183098591\n",
      "Accuracy test:  0.958041958041958\n",
      "\n",
      "\n",
      "For K=  15\n",
      "Accuracy train:  0.9366197183098591\n",
      "Accuracy test:  0.958041958041958\n",
      "\n",
      "\n",
      "For K=  20\n",
      "Accuracy train:  0.9272300469483568\n",
      "Accuracy test:  0.951048951048951\n",
      "\n",
      "\n",
      "For K=  30\n",
      "Accuracy train:  0.9131455399061033\n",
      "Accuracy test:  0.9440559440559441\n",
      "\n",
      "\n"
     ]
    }
   ],
   "source": [
    "from sklearn.preprocessing import MinMaxScaler\n",
    "scaler = MinMaxScaler()\n",
    "X_train, X_test, y_train, y_test = train_test_split(X, y, random_state=0)\n",
    "X_train_scaled = scaler.fit_transform(X_train)\n",
    "X_test_scaled = scaler.transform(X_test)\n",
    "\n",
    "k = [1,3,6,11]\n",
    "for index in [1,3,6,11, 15, 20, 30]:\n",
    "    model = KNeighborsClassifier(n_neighbors = index)\n",
    "\n",
    "    model.fit(X_train, y_train) # fitting model\n",
    "    train_score = model.score(X_train, y_train)\n",
    "    test_score = model.score(X_test, y_test)\n",
    "    # now, model is fitted and working, should predict correctly\n",
    "    print('For K= ', index)\n",
    "    print(\"Accuracy train: \", train_score)\n",
    "    print(\"Accuracy test: \", test_score)\n",
    "    print('\\n')"
   ]
  },
  {
   "cell_type": "markdown",
   "metadata": {},
   "source": [
    "### Prediction for mean values"
   ]
  },
  {
   "cell_type": "markdown",
   "metadata": {},
   "source": [
    "*i.e. if we take mean values for each feature, will the cancer be malignant(0), or benign (1)?*"
   ]
  },
  {
   "cell_type": "code",
   "execution_count": 10,
   "metadata": {},
   "outputs": [
    {
     "name": "stdout",
     "output_type": "stream",
     "text": [
      "Prediction for mean values:  [1.] , cancer is  benign.\n"
     ]
    }
   ],
   "source": [
    "cancer_df = pd.DataFrame(data, columns=columns)\n",
    "\n",
    "means = cancer_df.mean()[:-1].values.reshape(1, -1) # reshape into a row with no target column\n",
    "\n",
    "model.predict(means)\n",
    "\n",
    "if model.predict(means) == 1.:\n",
    "    kind = \"benign\"\n",
    "else:\n",
    "    kind= \"malignant\"\n",
    "\n",
    "print(\"Prediction for mean values: \", model.predict(means), \", cancer is \", kind + \".\")\n"
   ]
  },
  {
   "cell_type": "markdown",
   "metadata": {},
   "source": [
    "### knn regression "
   ]
  },
  {
   "cell_type": "code",
   "execution_count": 28,
   "metadata": {},
   "outputs": [],
   "source": [
    "from sklearn.neighbors import KNeighborsRegressor\n",
    "import plotly\n",
    "import plotly.graph_objs as go\n",
    "#from plotly.plotly import iplot, plot  # versions being updated, need load various modules\n",
    "from chart_studio.plotly import plot, iplot\n",
    "from sklearn.datasets import make_regression\n",
    "\n",
    "\n",
    "#Generating data:\n",
    "#X, y = pd shape, matrix\n",
    "X_knnreg, y_knnreg = make_regression(n_samples = 100, n_features=1,\n",
    "                            n_informative=1, bias = 150.0,\n",
    "                            noise = 30, random_state=0)\n",
    "\n",
    "# Visualize data: need to reshape data\n",
    "trace = go.Scatter(x = X_knnreg.reshape(-1),\n",
    "                   y = y_knnreg.reshape(-1),\n",
    "                   mode = 'markers'\n",
    "                   )\n",
    "\n",
    "fig = go.Figure(data = trace)\n",
    "#fig.show()  # uncomment this line for checking\n",
    "\n",
    "# train/test\n",
    "X_train, X_test, y_train, y_test = train_test_split(X, y, random_state=0)\n",
    "\n",
    "# model, knn regresion\n",
    "knnreg = KNeighborsRegressor(n_neighbors = 5).fit(X_train, y_train)\n",
    "\n",
    "print('R² for test: {:.3f}'\n",
    "     .format(knnreg.score(X_test, y_test)))"
   ]
  },
  {
   "cell_type": "code",
   "execution_count": null,
   "metadata": {},
   "outputs": [],
   "source": []
  },
  {
   "cell_type": "markdown",
   "metadata": {},
   "source": [
    "# *testing means every n values*"
   ]
  },
  {
   "cell_type": "markdown",
   "metadata": {},
   "source": [
    "cancer_df = pd.DataFrame(data, columns=columns)\n",
    "\n",
    "n = 5\n",
    "n = int(n)\n",
    "\n",
    "n_mean = cancer_df.groupby(np.arange(len(cancer_df))//n).mean()[:-1].values.reshape(1, -1)\n",
    "\n",
    "model.predict(n_mean)"
   ]
  }
 ],
 "metadata": {
  "coursera": {
   "course_slug": "python-machine-learning",
   "graded_item_id": "f9SY5",
   "launcher_item_id": "oxndk",
   "part_id": "mh1Vo"
  },
  "kernelspec": {
   "display_name": "Python 3",
   "language": "python",
   "name": "python3"
  },
  "language_info": {
   "codemirror_mode": {
    "name": "ipython",
    "version": 3
   },
   "file_extension": ".py",
   "mimetype": "text/x-python",
   "name": "python",
   "nbconvert_exporter": "python",
   "pygments_lexer": "ipython3",
   "version": "3.8.2"
  }
 },
 "nbformat": 4,
 "nbformat_minor": 1
}
